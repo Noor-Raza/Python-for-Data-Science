{
 "cells": [
  {
   "cell_type": "markdown",
   "metadata": {},
   "source": [
    "# Python for Data Science - Assignment 1"
   ]
  },
  {
   "cell_type": "markdown",
   "metadata": {},
   "source": [
    "# README.md"
   ]
  },
  {
   "cell_type": "markdown",
   "metadata": {},
   "source": [
    "Assignment 1 branch contains solutions to basic Python exercises, covering topics such as arithmetic operations, string manipulation, lists, dictionaries, tuples, sets, control flow, and functions.\n",
    "\n",
    "Tuples and Sets\n",
    "\n",
    "- Exercise 6: Tuples\n",
    "\n",
    "    - A program that defines a tuple `coordinates` with two values representing a point in 2D space and prints the values.\n",
    "\n",
    "- Exercise 7: Sets\n",
    "\n",
    "    - A program that creates a set of colors, adds a new color, tries adding a duplicate color, and merges with another set."
   ]
  },
  {
   "cell_type": "markdown",
   "metadata": {},
   "source": [
    "# 3. Tuples and Sets"
   ]
  },
  {
   "cell_type": "markdown",
   "metadata": {},
   "source": [
    "## Exercise 6 - Tuples"
   ]
  },
  {
   "cell_type": "markdown",
   "metadata": {},
   "source": [
    "A program that defines a tuple `coordinates` with two values representing a point in 2D space and prints the values."
   ]
  },
  {
   "cell_type": "code",
   "execution_count": 1,
   "metadata": {},
   "outputs": [
    {
     "name": "stdout",
     "output_type": "stream",
     "text": [
      "Coordinates: (10, 20)\n",
      "X value: 10\n",
      "Y value: 20\n"
     ]
    }
   ],
   "source": [
    "coordinates = (10, 20)\n",
    "\n",
    "print(\"Coordinates:\", coordinates)     # Prints the tuple of coordinates\n",
    "print(\"X value:\", coordinates[0])      # Accesses the first element (X-coordinate)\n",
    "print(\"Y value:\", coordinates[1])      # Accesses the second element (Y-coordinate)"
   ]
  },
  {
   "cell_type": "markdown",
   "metadata": {},
   "source": [
    "## Exercise 7 - Sets"
   ]
  },
  {
   "cell_type": "markdown",
   "metadata": {},
   "source": [
    "A program that creates a set of colors, adds a new color, tries adding a duplicate color, and merges with another set."
   ]
  },
  {
   "cell_type": "code",
   "execution_count": 3,
   "metadata": {},
   "outputs": [
    {
     "name": "stdout",
     "output_type": "stream",
     "text": [
      "Colors set: {'green', 'yellow', 'red', 'blue'}\n",
      "After removing 'green': {'yellow', 'red', 'blue'}\n",
      "Merged set: {'red', 'blue', 'pink', 'white', 'yellow'}\n"
     ]
    }
   ],
   "source": [
    "colors = {\"red\", \"green\", \"blue\"}\n",
    "colors.add(\"yellow\")       # Adds 'yellow' to the set\n",
    "colors.add(\"red\")          # Tries to add 'red' again (ignored because sets don't allow duplicates)\n",
    "\n",
    "print(\"Colors set:\", colors)    # Prints the set of colors\n",
    "colors.remove(\"green\")          # Removes 'green' from the set\n",
    "print(\"After removing 'green':\", colors)\n",
    "\n",
    "# Merging two sets\n",
    "light_colors = {\"pink\", \"white\"}\n",
    "colors.update(light_colors)     # Merges light_colors into colors\n",
    "print(\"Merged set:\", colors)"
   ]
  }
 ],
 "metadata": {
  "kernelspec": {
   "display_name": "Python 3",
   "language": "python",
   "name": "python3"
  },
  "language_info": {
   "codemirror_mode": {
    "name": "ipython",
    "version": 3
   },
   "file_extension": ".py",
   "mimetype": "text/x-python",
   "name": "python",
   "nbconvert_exporter": "python",
   "pygments_lexer": "ipython3",
   "version": "3.10.15"
  }
 },
 "nbformat": 4,
 "nbformat_minor": 2
}
