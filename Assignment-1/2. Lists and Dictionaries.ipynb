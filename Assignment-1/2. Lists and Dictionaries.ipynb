{
 "cells": [
  {
   "cell_type": "markdown",
   "metadata": {},
   "source": [
    "# Python for Data Science - Assignment 1"
   ]
  },
  {
   "cell_type": "markdown",
   "metadata": {},
   "source": [
    "# README.md"
   ]
  },
  {
   "cell_type": "markdown",
   "metadata": {},
   "source": [
    "Assignment 1 branch contains solutions to basic Python exercises, covering topics such as arithmetic operations, string manipulation, lists, dictionaries, tuples, sets, control flow, and functions.\n",
    "\n",
    "Lists and Dictionaries\n",
    "\n",
    "- Exercise 4: Lists\n",
    "\n",
    "    - A program that creates a list of five universities and prints the entire list, along with the first and last university in the list.\n",
    "\n",
    "- Exercise 5: Dictionaries\n",
    "\n",
    "    - A program that creates a dictionary called `student` with keys: `name`, `age`, and `grade`. It prints each key-value pair in the dictionary."
   ]
  },
  {
   "cell_type": "markdown",
   "metadata": {},
   "source": [
    "# 2. Lists and Dictionaries"
   ]
  },
  {
   "cell_type": "markdown",
   "metadata": {},
   "source": [
    "## Exercise 4 - Lists"
   ]
  },
  {
   "cell_type": "markdown",
   "metadata": {},
   "source": [
    "A program that creates a list of five universities and prints the entire list, along with the first and last university in the list."
   ]
  },
  {
   "cell_type": "code",
   "execution_count": 1,
   "metadata": {},
   "outputs": [
    {
     "name": "stdout",
     "output_type": "stream",
     "text": [
      "List of universities: ['ESADE', 'MIT', 'IE', 'IESE', 'INSEAD']\n",
      "First university: ESADE\n",
      "Last university: INSEAD\n"
     ]
    }
   ],
   "source": [
    "universities = [\"ESADE\", \"MIT\", \"IE\", \"IESE\", \"INSEAD\"]\n",
    "\n",
    "print(\"List of universities:\", universities)  # Prints the full list of universities\n",
    "print(\"First university:\", universities[0])   # Accesses the first element\n",
    "print(\"Last university:\", universities[-1])   # Accesses the last element"
   ]
  },
  {
   "cell_type": "markdown",
   "metadata": {},
   "source": [
    "## Exercise 5 - Dictionaries"
   ]
  },
  {
   "cell_type": "markdown",
   "metadata": {},
   "source": [
    "A program that creates a dictionary called `student` with keys: `name`, `age`, and `grade`. It prints each key-value pair in the dictionary."
   ]
  },
  {
   "cell_type": "code",
   "execution_count": 2,
   "metadata": {},
   "outputs": [
    {
     "name": "stdout",
     "output_type": "stream",
     "text": [
      "name: John Doe\n",
      "age: 20\n",
      "grade: A\n"
     ]
    }
   ],
   "source": [
    "student = {\n",
    "    \"name\": \"John Doe\",\n",
    "    \"age\": 20,\n",
    "    \"grade\": \"A\"\n",
    "}\n",
    "\n",
    "# Loops through the dictionary and prints each key-value pair\n",
    "for key, value in student.items():\n",
    "    print(f\"{key}: {value}\")"
   ]
  }
 ],
 "metadata": {
  "kernelspec": {
   "display_name": "Python 3",
   "language": "python",
   "name": "python3"
  },
  "language_info": {
   "codemirror_mode": {
    "name": "ipython",
    "version": 3
   },
   "file_extension": ".py",
   "mimetype": "text/x-python",
   "name": "python",
   "nbconvert_exporter": "python",
   "pygments_lexer": "ipython3",
   "version": "3.10.15"
  }
 },
 "nbformat": 4,
 "nbformat_minor": 2
}
