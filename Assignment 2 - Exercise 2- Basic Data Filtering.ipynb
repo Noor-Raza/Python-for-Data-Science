{
 "cells": [
  {
   "cell_type": "markdown",
   "metadata": {},
   "source": [
    "# Python for Data Science - Assignment 2"
   ]
  },
  {
   "cell_type": "markdown",
   "metadata": {},
   "source": [
    "# README.md"
   ]
  },
  {
   "cell_type": "markdown",
   "metadata": {},
   "source": [
    "Assignment 2 branch contains a set of basic Python exercises aimed at practicing fundamental programming concepts such as conditionals, loops, list comprehension, and functions. The exercises are designed to be easy to follow, with explanations and examples provided for each."
   ]
  },
  {
   "cell_type": "markdown",
   "metadata": {},
   "source": [
    "# Exercise 2 - Basic Data Filtering"
   ]
  },
  {
   "cell_type": "markdown",
   "metadata": {},
   "source": [
    "In this exercise, a list containing mixed data types (integers, strings, and floats) is created.\n",
    "The task is to filter the list and create a new list that contains only integers using list comprehension.\n",
    "This exercise helps practice list manipulation and filtering based on data types."
   ]
  },
  {
   "cell_type": "code",
   "execution_count": 1,
   "metadata": {},
   "outputs": [
    {
     "name": "stdout",
     "output_type": "stream",
     "text": [
      "[1, 7, 15]\n"
     ]
    }
   ],
   "source": [
    "# This code filters a list to keep only integers and prints them.\n",
    "# We create a mixed list with different data types (integers, strings, and floats).\n",
    "# Then, we create a new list that contains only the integers from the mixed list.\n",
    "\n",
    "mixed_data = [1, 'hello', 3.5, 7, 'world', 10.1, 15, 22.5]\n",
    "\n",
    "# Create a new list with only integers from mixed_data\n",
    "filtered_integers = [x for x in mixed_data if type(x) == int]\n",
    "\n",
    "# Print the filtered list of integers\n",
    "print(filtered_integers)"
   ]
  }
 ],
 "metadata": {
  "kernelspec": {
   "display_name": "Python 3",
   "language": "python",
   "name": "python3"
  },
  "language_info": {
   "codemirror_mode": {
    "name": "ipython",
    "version": 3
   },
   "file_extension": ".py",
   "mimetype": "text/x-python",
   "name": "python",
   "nbconvert_exporter": "python",
   "pygments_lexer": "ipython3",
   "version": "3.10.15"
  }
 },
 "nbformat": 4,
 "nbformat_minor": 2
}
