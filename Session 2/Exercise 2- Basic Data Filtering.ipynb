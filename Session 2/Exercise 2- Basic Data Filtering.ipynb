{
 "cells": [
  {
   "cell_type": "code",
   "execution_count": 1,
   "metadata": {},
   "outputs": [
    {
     "name": "stdout",
     "output_type": "stream",
     "text": [
      "[1, 7, 15]\n"
     ]
    }
   ],
   "source": [
    "# Exercise 2: Basic Data Filtering\n",
    "# This code filters a list to keep only integers and prints them.\n",
    "# We create a mixed list with different data types (integers, strings, and floats).\n",
    "# Then, we create a new list that contains only the integers from the mixed list.\n",
    "\n",
    "mixed_data = [1, 'hello', 3.5, 7, 'world', 10.1, 15, 22.5]\n",
    "\n",
    "# Create a new list with only integers from mixed_data\n",
    "filtered_integers = [x for x in mixed_data if type(x) == int]\n",
    "\n",
    "# Print the filtered list of integers\n",
    "print(filtered_integers)"
   ]
  }
 ],
 "metadata": {
  "kernelspec": {
   "display_name": "Python 3",
   "language": "python",
   "name": "python3"
  },
  "language_info": {
   "codemirror_mode": {
    "name": "ipython",
    "version": 3
   },
   "file_extension": ".py",
   "mimetype": "text/x-python",
   "name": "python",
   "nbconvert_exporter": "python",
   "pygments_lexer": "ipython3",
   "version": "3.10.15"
  }
 },
 "nbformat": 4,
 "nbformat_minor": 2
}
