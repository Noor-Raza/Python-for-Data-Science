{
 "cells": [
  {
   "cell_type": "code",
   "execution_count": 1,
   "metadata": {},
   "outputs": [
    {
     "name": "stdout",
     "output_type": "stream",
     "text": [
      "22°C is 71.6°F\n",
      "46°C is 114.8°F\n",
      "51°C is 123.8°F\n",
      "76°C is 168.8°F\n"
     ]
    }
   ],
   "source": [
    "# Exercise 4: Temperature Converter\n",
    "# This function converts temperatures from Celsius to Fahrenheit.\n",
    "# It takes a temperature in Celsius as input and applies the conversion formula.\n",
    "# Then, we will print the converted temperature for a list of Celsius values.\n",
    "\n",
    "def celsius_to_fahrenheit(celsius):\n",
    "    return (celsius * 9 / 5) + 32  # Convert to Fahrenheit\n",
    "\n",
    "# List of temperatures to convert\n",
    "temperatures_in_celsius = [22, 46, 51, 76]\n",
    "\n",
    "# Convert and print each temperature\n",
    "for temp in temperatures_in_celsius:\n",
    "    print(f\"{temp}°C is {celsius_to_fahrenheit(temp)}°F\")"
   ]
  }
 ],
 "metadata": {
  "kernelspec": {
   "display_name": "Python 3",
   "language": "python",
   "name": "python3"
  },
  "language_info": {
   "codemirror_mode": {
    "name": "ipython",
    "version": 3
   },
   "file_extension": ".py",
   "mimetype": "text/x-python",
   "name": "python",
   "nbconvert_exporter": "python",
   "pygments_lexer": "ipython3",
   "version": "3.10.15"
  }
 },
 "nbformat": 4,
 "nbformat_minor": 2
}
