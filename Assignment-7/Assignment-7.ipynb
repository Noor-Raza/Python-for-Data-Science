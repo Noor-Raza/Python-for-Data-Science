{
 "cells": [
  {
   "cell_type": "markdown",
   "metadata": {},
   "source": [
    "# **Python for Data Science**\n",
    "---"
   ]
  },
  {
   "cell_type": "markdown",
   "metadata": {},
   "source": [
    "## Assignment 7"
   ]
  },
  {
   "cell_type": "markdown",
   "metadata": {},
   "source": [
    "### Pandas II\n",
    "---"
   ]
  },
  {
   "cell_type": "markdown",
   "metadata": {},
   "source": [
    "# **README.md**"
   ]
  },
  {
   "cell_type": "markdown",
   "metadata": {},
   "source": [
    "\n",
    "## Overview\n",
    "This assignment focuses on performing various DataFrame manipulations using Python's **pandas** library. It includes tasks like creating new columns, merging DataFrames, and extracting specific information from text columns. These exercises are designed to improve your data preprocessing and transformation skills.\n",
    "\n",
    "## Exercises\n",
    "\n",
    "### Exercise 1: Creating Professor Initials\n",
    "**Description:** We need to extract the initials of each professor's first and last names and store them in a new column called professor_initials.\n",
    "\n",
    "\n",
    "### Exercise 2: Given the dataframe below. Use **join** to combine this new DataFrame with the original one based on the professor column.\n",
    "**Description:** We will merge the original DataFrame and the new df_courses DataFrame using the professor column as the key.\n",
    "\n",
    "### Exercise 3: Combine the original df and df_courses DataFrames.\n",
    "**Description:** We combine two DataFrames (df and df_courses) based on the common column professor to include the course information for each professor.\n",
    "\n",
    "### Exercise 4: In the professor column, create a new column professor_last_name by extracting the last name of each professor using string operations.\n",
    "**Description:** We extract the last name of each professor from the professor column using string operations and store it in a new column called professor_last_name.\n"
   ]
  },
  {
   "cell_type": "markdown",
   "metadata": {},
   "source": [
    "---"
   ]
  },
  {
   "cell_type": "code",
   "execution_count": 12,
   "metadata": {},
   "outputs": [],
   "source": [
    "import pandas as pd"
   ]
  },
  {
   "cell_type": "markdown",
   "metadata": {},
   "source": [
    "---"
   ]
  },
  {
   "cell_type": "markdown",
   "metadata": {},
   "source": [
    "# **Exercises**"
   ]
  },
  {
   "cell_type": "markdown",
   "metadata": {},
   "source": [
    "### Exercise 1: Create a new column called **professor_initials** that stores the initials of each professor's first and last names. Use the following data:"
   ]
  },
  {
   "cell_type": "markdown",
   "metadata": {},
   "source": [
    "**Description:** We need to extract the initials of each professor's first and last names and store them in a new column called professor_initials."
   ]
  },
  {
   "cell_type": "code",
   "execution_count": 15,
   "metadata": {},
   "outputs": [
    {
     "name": "stdout",
     "output_type": "stream",
     "text": [
      "          professor          department  age professor_initials\n",
      "0  Ludmila Kuncheva    Computer Science   45                 LK\n",
      "1  Antonio Torralba     Computer Vision   50                 AT\n",
      "2   Manuel Gonzalez       AI & Robotics   47                 MG\n",
      "3     Bastian Leibe  Autonomous Systems   38                 BL\n"
     ]
    }
   ],
   "source": [
    "data = {\n",
    "    'professor': ['Ludmila Kuncheva', 'Antonio Torralba', 'Manuel Gonzalez', 'Bastian Leibe'],\n",
    "    'department': ['Computer Science', 'Computer Vision', 'AI & Robotics', 'Autonomous Systems'],\n",
    "    'age': [45, 50, 47, 38]\n",
    "}\n",
    "\n",
    "df = pd.DataFrame(data)\n",
    "\n",
    "# Creating a new column for professor initials\n",
    "\n",
    "df['professor_initials'] = df['professor'].apply(lambda name: ''.join([part[0].upper() for part in name.split()]))\n",
    "\n",
    "# Displaying the DataFrame\n",
    "\n",
    "print(df)"
   ]
  },
  {
   "cell_type": "markdown",
   "metadata": {},
   "source": [
    "---"
   ]
  },
  {
   "cell_type": "markdown",
   "metadata": {},
   "source": [
    "### Exercise 2: Given the dataframe below. Use **join** to combine this new DataFrame with the original one based on the professor column."
   ]
  },
  {
   "cell_type": "markdown",
   "metadata": {},
   "source": [
    "**Description:** We will merge the original DataFrame and the new df_courses DataFrame using the professor column as the key."
   ]
  },
  {
   "cell_type": "code",
   "execution_count": 16,
   "metadata": {},
   "outputs": [
    {
     "data": {
      "text/html": [
       "<div>\n",
       "<style scoped>\n",
       "    .dataframe tbody tr th:only-of-type {\n",
       "        vertical-align: middle;\n",
       "    }\n",
       "\n",
       "    .dataframe tbody tr th {\n",
       "        vertical-align: top;\n",
       "    }\n",
       "\n",
       "    .dataframe thead th {\n",
       "        text-align: right;\n",
       "    }\n",
       "</style>\n",
       "<table border=\"1\" class=\"dataframe\">\n",
       "  <thead>\n",
       "    <tr style=\"text-align: right;\">\n",
       "      <th></th>\n",
       "      <th>professor</th>\n",
       "      <th>department</th>\n",
       "      <th>age</th>\n",
       "      <th>professor_initials</th>\n",
       "      <th>courses</th>\n",
       "    </tr>\n",
       "  </thead>\n",
       "  <tbody>\n",
       "    <tr>\n",
       "      <th>0</th>\n",
       "      <td>Ludmila Kuncheva</td>\n",
       "      <td>Computer Science</td>\n",
       "      <td>45</td>\n",
       "      <td>LK</td>\n",
       "      <td>Machine Learning</td>\n",
       "    </tr>\n",
       "    <tr>\n",
       "      <th>1</th>\n",
       "      <td>Antonio Torralba</td>\n",
       "      <td>Computer Vision</td>\n",
       "      <td>50</td>\n",
       "      <td>AT</td>\n",
       "      <td>Computer Vision</td>\n",
       "    </tr>\n",
       "    <tr>\n",
       "      <th>2</th>\n",
       "      <td>Manuel Gonzalez</td>\n",
       "      <td>AI &amp; Robotics</td>\n",
       "      <td>47</td>\n",
       "      <td>MG</td>\n",
       "      <td>AI Programming</td>\n",
       "    </tr>\n",
       "    <tr>\n",
       "      <th>3</th>\n",
       "      <td>Bastian Leibe</td>\n",
       "      <td>Autonomous Systems</td>\n",
       "      <td>38</td>\n",
       "      <td>BL</td>\n",
       "      <td>Self-Driving Cars</td>\n",
       "    </tr>\n",
       "  </tbody>\n",
       "</table>\n",
       "</div>"
      ],
      "text/plain": [
       "          professor          department  age professor_initials  \\\n",
       "0  Ludmila Kuncheva    Computer Science   45                 LK   \n",
       "1  Antonio Torralba     Computer Vision   50                 AT   \n",
       "2   Manuel Gonzalez       AI & Robotics   47                 MG   \n",
       "3     Bastian Leibe  Autonomous Systems   38                 BL   \n",
       "\n",
       "             courses  \n",
       "0   Machine Learning  \n",
       "1    Computer Vision  \n",
       "2     AI Programming  \n",
       "3  Self-Driving Cars  "
      ]
     },
     "execution_count": 16,
     "metadata": {},
     "output_type": "execute_result"
    }
   ],
   "source": [
    "courses_data = {\n",
    "    'professor': ['Ludmila Kuncheva', 'Antonio Torralba', 'Manuel Gonzalez', 'Bastian Leibe'],\n",
    "    'courses': ['Machine Learning', 'Computer Vision', 'AI Programming', 'Self-Driving Cars']\n",
    "}\n",
    "df_courses = pd.DataFrame(courses_data)\n",
    "\n",
    "# Using join by aligning on the 'professor' column\n",
    "\n",
    "df_combined = df.join(df_courses.set_index('professor'), on='professor')\n",
    "\n",
    "df_combined"
   ]
  },
  {
   "cell_type": "markdown",
   "metadata": {},
   "source": [
    "---"
   ]
  },
  {
   "cell_type": "markdown",
   "metadata": {},
   "source": [
    "### Exercise 3: Combine the original df and df_courses DataFrames."
   ]
  },
  {
   "cell_type": "markdown",
   "metadata": {},
   "source": [
    "**Description:** We combine two DataFrames (df and df_courses) based on the common column professor to include the course information for each professor."
   ]
  },
  {
   "cell_type": "code",
   "execution_count": 18,
   "metadata": {},
   "outputs": [
    {
     "name": "stdout",
     "output_type": "stream",
     "text": [
      "          professor          department  age            courses\n",
      "0  Ludmila Kuncheva    Computer Science   45   Machine Learning\n",
      "1  Antonio Torralba     Computer Vision   50    Computer Vision\n",
      "2   Manuel Gonzalez       AI & Robotics   47     AI Programming\n",
      "3     Bastian Leibe  Autonomous Systems   38  Self-Driving Cars\n"
     ]
    }
   ],
   "source": [
    "data = {\n",
    "    'professor': ['Ludmila Kuncheva', 'Antonio Torralba', 'Manuel Gonzalez', 'Bastian Leibe'],\n",
    "    'department': ['Computer Science', 'Computer Vision', 'AI & Robotics', 'Autonomous Systems'],\n",
    "    'age': [45, 50, 47, 38]\n",
    "}\n",
    "df = pd.DataFrame(data)\n",
    "\n",
    "# Courses DataFrame\n",
    "\n",
    "courses_data = {\n",
    "    'professor': ['Ludmila Kuncheva', 'Antonio Torralba', 'Manuel Gonzalez', 'Bastian Leibe'],\n",
    "    'courses': ['Machine Learning', 'Computer Vision', 'AI Programming', 'Self-Driving Cars']\n",
    "}\n",
    "df_courses = pd.DataFrame(courses_data)\n",
    "\n",
    "# Merging DataFrames\n",
    "\n",
    "combined_df = pd.merge(df, df_courses, on='professor')\n",
    "\n",
    "# Displaying the combined DataFrame\n",
    "\n",
    "print(combined_df)"
   ]
  },
  {
   "cell_type": "markdown",
   "metadata": {},
   "source": [
    "---"
   ]
  },
  {
   "cell_type": "markdown",
   "metadata": {},
   "source": [
    "### Exercise 4: In the professor column, create a new column professor_last_name by extracting the last name of each professor using string operations."
   ]
  },
  {
   "cell_type": "markdown",
   "metadata": {},
   "source": [
    "**Description:** We extract the last name of each professor from the professor column using string operations and store it in a new column called professor_last_name."
   ]
  },
  {
   "cell_type": "code",
   "execution_count": 14,
   "metadata": {},
   "outputs": [
    {
     "name": "stdout",
     "output_type": "stream",
     "text": [
      "          professor          department  age professor_last_name\n",
      "0  Ludmila Kuncheva    Computer Science   45            Kuncheva\n",
      "1  Antonio Torralba     Computer Vision   50            Torralba\n",
      "2   Manuel Gonzalez       AI & Robotics   47            Gonzalez\n",
      "3     Bastian Leibe  Autonomous Systems   38               Leibe\n"
     ]
    }
   ],
   "source": [
    "# Creating a new column for professor last names\n",
    "\n",
    "df['professor_last_name'] = df['professor'].apply(lambda name: name.split()[-1])\n",
    "\n",
    "# Displaying the DataFrame\n",
    "\n",
    "print(df)"
   ]
  },
  {
   "cell_type": "markdown",
   "metadata": {},
   "source": [
    "---"
   ]
  }
 ],
 "metadata": {
  "kernelspec": {
   "display_name": "Python 3",
   "language": "python",
   "name": "python3"
  },
  "language_info": {
   "codemirror_mode": {
    "name": "ipython",
    "version": 3
   },
   "file_extension": ".py",
   "mimetype": "text/x-python",
   "name": "python",
   "nbconvert_exporter": "python",
   "pygments_lexer": "ipython3",
   "version": "3.12.6"
  }
 },
 "nbformat": 4,
 "nbformat_minor": 2
}
