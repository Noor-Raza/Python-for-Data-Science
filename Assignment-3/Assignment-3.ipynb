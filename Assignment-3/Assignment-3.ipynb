{
  "cells": [
    {
      "cell_type": "markdown",
      "id": "24b98369-c7ba-450b-a8b5-e34319000695",
      "metadata": {
        "editable": true,
        "id": "24b98369-c7ba-450b-a8b5-e34319000695",
        "tags": []
      },
      "source": [
        "# Python for Data Science\n",
        "## Assignment 3\n",
        "### Object Oriented Programming"
      ]
    },
    {
      "cell_type": "markdown",
      "id": "a13778e8",
      "metadata": {},
      "source": [
        "# README.md"
      ]
    },
    {
      "cell_type": "markdown",
      "id": "f2f1d1c9",
      "metadata": {},
      "source": [
        "This assignment implements a simple Course Registration System using Python. The system consists of three main classes: **Course**, **Student**, and **Registration**.\n",
        "\n",
        "### Features\n",
        "- **Course Class**: Represents a course with a name, description, and methods to manage enrolled students.\n",
        "  - Add and remove students from the course.\n",
        "  - Display all students enrolled in the course.\n",
        "\n",
        "- **Student Class**: Represents a student with a name, ID number, address, and a list of enrolled courses.\n",
        "  - Enroll in and drop courses.\n",
        "  - Assign grades for each course and calculate the Grade Point Average (GPA).\n",
        "  - Display all registered courses and their grades.\n",
        "\n",
        "- **Registration Class**: Manages the overall registration process, including a list of students and courses.\n",
        "  - Enroll students in courses and drop courses.\n",
        "  - Display all available courses and registered students.\n",
        "\n",
        "### Exercises Overview\n",
        "\n",
        "1. **Course Class**: Implement a class to manage course details and student enrollments.\n",
        "2. **Student Class**: Create a class to manage student information, course enrollments, and grades.\n",
        "3. **Registration Class**: Develop a central management class that oversees both courses and students.\n",
        "4. **GPA Calculation**: Enhance the Student class to include grade assignments and a method to calculate GPA based on enrolled courses.\n",
        "\n",
        "### Usage\n",
        "The system allows you to create instances of students and courses, manage enrollments, and calculate GPAs. Example usage is provided to demonstrate the functionalities of the classes."
      ]
    },
    {
      "cell_type": "markdown",
      "id": "3ace1343-d73d-466d-aa07-56febbb7cbf1",
      "metadata": {
        "editable": true,
        "id": "3ace1343-d73d-466d-aa07-56febbb7cbf1",
        "tags": []
      },
      "source": [
        "---"
      ]
    },
    {
      "cell_type": "markdown",
      "id": "c5ffee69-5d4d-4f1c-9ed7-083afbc931ec",
      "metadata": {
        "editable": true,
        "id": "c5ffee69-5d4d-4f1c-9ed7-083afbc931ec",
        "tags": []
      },
      "source": [
        "## Outline\n",
        "1. Classes and objects\n",
        "2. Abstraction and Inheritance\n",
        "3. Polymorphism and Encapsulation"
      ]
    },
    {
      "cell_type": "markdown",
      "id": "aba315f4-e9bf-4a66-b3d3-593037c3ca70",
      "metadata": {
        "editable": true,
        "id": "aba315f4-e9bf-4a66-b3d3-593037c3ca70",
        "tags": []
      },
      "source": [
        "---"
      ]
    },
    {
      "cell_type": "markdown",
      "id": "8ed45dcb-2cf5-4bfa-ba6e-5da25c59757c",
      "metadata": {
        "editable": true,
        "id": "8ed45dcb-2cf5-4bfa-ba6e-5da25c59757c",
        "tags": []
      },
      "source": [
        "## Object Oriented programming\n",
        "\n",
        "In Data science there are three different types of programming paradigms:\n",
        "\n",
        "1. **Object-oriented programming** organizes code using objects that represent real-world entities. It provides modularity, code reuse and abstraction, making it suitable for handling large and complex applications.\n",
        "\n",
        "2. **Functional programming** emphasizes the use of **pure functions** that can be easily composed and reused, ideal for transforming data.\n",
        "\n",
        "3. **Declarative programming** consists in specifyin what the program should accomplish, rather than how to accomplish it.\n",
        "\n"
      ]
    },
    {
      "cell_type": "markdown",
      "id": "42f9f227-0941-4967-9a4b-c282bb0e4cfc",
      "metadata": {
        "editable": true,
        "id": "42f9f227-0941-4967-9a4b-c282bb0e4cfc",
        "tags": []
      },
      "source": [
        "**Pure functions** are functions that always produce the same output for the same input and haven't got any side effects, meaning it does not modify external states or variables."
      ]
    },
    {
      "cell_type": "markdown",
      "id": "00b01ced-eda7-423f-8522-96bd3f1a4125",
      "metadata": {
        "editable": true,
        "id": "00b01ced-eda7-423f-8522-96bd3f1a4125",
        "tags": []
      },
      "source": [
        "---"
      ]
    },
    {
      "cell_type": "markdown",
      "id": "9434c993-aac1-4655-bf69-477b9dc5d2ee",
      "metadata": {
        "editable": true,
        "id": "9434c993-aac1-4655-bf69-477b9dc5d2ee",
        "tags": []
      },
      "source": [
        "## Object Oriented programming\n",
        "\n",
        "OOP main concepts are:\n",
        "\n",
        "1. **Class**: A template to create objects.\n",
        "2. **Object**: An instance of a class, representing a specific entity.\n",
        "3. **Attributes**: Properties of an object (variables within a class that define it).\n",
        "4. **Methods**: Actions that objects can perform (functions within a class)."
      ]
    },
    {
      "cell_type": "code",
      "execution_count": 443,
      "id": "1e350f15-ae19-4323-a1c6-25d80118a5f3",
      "metadata": {
        "editable": true,
        "id": "1e350f15-ae19-4323-a1c6-25d80118a5f3",
        "tags": []
      },
      "outputs": [],
      "source": [
        "class Pet:\n",
        "    pass  # Empty class as a placeholder"
      ]
    },
    {
      "cell_type": "code",
      "execution_count": 444,
      "id": "2e427c6d-a0fc-47de-a6e8-de71ae500619",
      "metadata": {
        "editable": true,
        "id": "2e427c6d-a0fc-47de-a6e8-de71ae500619",
        "tags": []
      },
      "outputs": [],
      "source": [
        "my_pet = Pet() # Instance of a class"
      ]
    },
    {
      "cell_type": "code",
      "execution_count": 445,
      "id": "1cda9d57-aedb-4e70-af5b-7193174a2430",
      "metadata": {
        "editable": true,
        "id": "1cda9d57-aedb-4e70-af5b-7193174a2430",
        "tags": []
      },
      "outputs": [],
      "source": [
        "# Note: self refers to the instance of the class and is used to access its attributes and methods\n",
        "class Pet:\n",
        "    def __init__(self, name): # constructor\n",
        "        self.name = name"
      ]
    },
    {
      "cell_type": "code",
      "execution_count": 446,
      "id": "c4f13ca9-dd0a-4b53-8f30-5a507979b1ed",
      "metadata": {
        "editable": true,
        "id": "c4f13ca9-dd0a-4b53-8f30-5a507979b1ed",
        "tags": []
      },
      "outputs": [],
      "source": [
        "class Pet:\n",
        "    def __init__(self, name): # constructor\n",
        "        self.name = name # Instance attribute\n",
        "        self.age = None # Instance attribute set to None\n",
        "\n",
        "    def set_age(self, age): # Method\n",
        "        self.age = age"
      ]
    },
    {
      "cell_type": "markdown",
      "id": "92887f1e-c2b9-4abc-9324-af4c15250c3a",
      "metadata": {
        "editable": true,
        "id": "92887f1e-c2b9-4abc-9324-af4c15250c3a",
        "tags": []
      },
      "source": [
        "---"
      ]
    },
    {
      "cell_type": "markdown",
      "id": "d6c81e01-e268-4490-b970-b9f3d7a08d30",
      "metadata": {
        "editable": true,
        "id": "d6c81e01-e268-4490-b970-b9f3d7a08d30",
        "tags": []
      },
      "source": [
        "## Object Oriented programming\n",
        "### Abstraction\n",
        "\n",
        "Abstraction consists in hiding any variables and internal parts of an object that don’t need to be shown during interaction. Making only available the essential functionalities.\n",
        "\n",
        "You may want to call a method from an object that searches for something in an internal list, and in this case, you don't need to see the algorithm behind it, you just need to call the method and get what you want."
      ]
    },
    {
      "cell_type": "markdown",
      "id": "23e1e6b4-322a-4cd5-8a82-72877cc98804",
      "metadata": {
        "editable": true,
        "id": "23e1e6b4-322a-4cd5-8a82-72877cc98804",
        "tags": []
      },
      "source": [
        "## Object Oriented programming\n",
        "### Inheritance\n",
        "\n",
        "Inheritance permits any class to inherit attributes and methods from another class. This reduces code duplication and enables the creation of specialized classes based on general ones."
      ]
    },
    {
      "cell_type": "code",
      "execution_count": 447,
      "id": "76c58110-a965-432f-8dcf-f457079fec65",
      "metadata": {
        "editable": true,
        "id": "76c58110-a965-432f-8dcf-f457079fec65",
        "tags": []
      },
      "outputs": [],
      "source": [
        "class Pet:\n",
        "    def __init__(self, age, name): # Constructor\n",
        "        self.age = age # Attribute\n",
        "        self.name = name # Attribute\n",
        "\n",
        "    def describe(self): # Method\n",
        "        print(f\"This pet's name is {self.name}.\")\n",
        "\n",
        "class Dog(Pet):\n",
        "    def __init__(self, age, name, breed): # Constructor\n",
        "        super().__init__(age, name)  # Call the parent class's __init__ method\n",
        "        self.breed = breed # New attribute for this specialized class\n",
        "\n",
        "    def describe(self):\n",
        "        super().describe()  # Call the parent class's describe method\n",
        "        print(f\"This dog is {self.age} years old and is a {self.breed}.\")"
      ]
    },
    {
      "cell_type": "code",
      "execution_count": 448,
      "id": "48301f74-ece3-49ec-9332-2c168743ebc8",
      "metadata": {
        "editable": true,
        "id": "48301f74-ece3-49ec-9332-2c168743ebc8",
        "tags": []
      },
      "outputs": [],
      "source": [
        "my_dog = Dog(3, 'Rock', 'Great Dane')"
      ]
    },
    {
      "cell_type": "code",
      "execution_count": 449,
      "id": "eae7678f-665a-4916-96d2-3926a312aea5",
      "metadata": {
        "editable": true,
        "id": "eae7678f-665a-4916-96d2-3926a312aea5",
        "outputId": "3abb92a2-d911-43f9-bf4b-bb7ecdaf371f",
        "tags": []
      },
      "outputs": [
        {
          "name": "stdout",
          "output_type": "stream",
          "text": [
            "This pet's name is Rock.\n",
            "This dog is 3 years old and is a Great Dane.\n"
          ]
        }
      ],
      "source": [
        "my_dog.describe()"
      ]
    },
    {
      "cell_type": "markdown",
      "id": "220f9368-0c1a-4ac8-9785-a33b11e5df77",
      "metadata": {
        "editable": true,
        "id": "220f9368-0c1a-4ac8-9785-a33b11e5df77",
        "tags": []
      },
      "source": [
        "---"
      ]
    },
    {
      "cell_type": "markdown",
      "id": "88ff8053-d1d0-4c08-b8e5-6c84e94c4f24",
      "metadata": {
        "editable": true,
        "id": "88ff8053-d1d0-4c08-b8e5-6c84e94c4f24",
        "tags": []
      },
      "source": [
        "## Object Oriented programming\n",
        "### Polymorphism\n",
        "\n",
        "It allows the same method name to behave differently based on the object calling it, which can be achieved through method overriding."
      ]
    },
    {
      "cell_type": "code",
      "execution_count": 450,
      "id": "db4cd9e2-0188-4511-a81b-070221d74af5",
      "metadata": {
        "editable": true,
        "id": "db4cd9e2-0188-4511-a81b-070221d74af5",
        "tags": []
      },
      "outputs": [],
      "source": [
        "class Cat(Pet):\n",
        "    def __init__(self, age, name, breed): # Constructor\n",
        "        super().__init__(age, name)  # Call the parent class's __init__ method\n",
        "        self.breed = breed # New attribute for this specialized class\n",
        "\n",
        "    def describe(self): # Method\n",
        "        print(f\"This super cat is {self.age} years old and is a {self.breed}.\")"
      ]
    },
    {
      "cell_type": "code",
      "execution_count": 451,
      "id": "ced1143b-98db-46db-8e90-fed185aad835",
      "metadata": {
        "editable": true,
        "id": "ced1143b-98db-46db-8e90-fed185aad835",
        "outputId": "3c3d99c3-5191-40d9-a25c-9d4516c6ca93",
        "tags": []
      },
      "outputs": [
        {
          "name": "stdout",
          "output_type": "stream",
          "text": [
            "This super cat is 7 years old and is a Siamese.\n"
          ]
        }
      ],
      "source": [
        "my_cat = Cat(7, 'Bella', 'Siamese')\n",
        "my_cat.describe()"
      ]
    },
    {
      "cell_type": "markdown",
      "id": "cd327548-f048-4d39-9b72-6dff6cd6963d",
      "metadata": {
        "editable": true,
        "id": "cd327548-f048-4d39-9b72-6dff6cd6963d",
        "tags": []
      },
      "source": [
        "---"
      ]
    },
    {
      "cell_type": "markdown",
      "id": "854b31bb-2b21-42fd-939a-f82f71a549f0",
      "metadata": {
        "editable": true,
        "id": "854b31bb-2b21-42fd-939a-f82f71a549f0",
        "tags": []
      },
      "source": [
        "## Object Oriented programming\n",
        "### Encapsulation\n",
        "\n",
        "It consists in restricting access to variables and methods outside the object. This way we ensure the integrity of the data within the object.\n",
        "\n",
        "In python, prefixing a variable or method name with an underscore **_** indicates that it is intended for internal use only, while a double underscore **__** modifies the variable name for better encapsulation.\n",
        "\n",
        "It is worth mentioning that this is a convention, and variables and methods are still accessible."
      ]
    },
    {
      "cell_type": "code",
      "execution_count": 452,
      "id": "33e1bdf2-8798-41f1-9ed3-957c730dc9ad",
      "metadata": {
        "editable": true,
        "id": "33e1bdf2-8798-41f1-9ed3-957c730dc9ad",
        "tags": []
      },
      "outputs": [],
      "source": [
        "class Student:\n",
        "    def __init__(self, name, age, address=None):\n",
        "        self.name = name # Public attribute\n",
        "        self._age =   age # Private attribute\n",
        "        self._address = address  # Private attribute\n",
        "\n",
        "    def get_address(self): # Method\n",
        "        return self._address\n",
        "\n",
        "    def set_address(self, address): # Method\n",
        "        address = ''.join(filter(self._remove_special_characters, address))\n",
        "        self._address = address\n",
        "\n",
        "    def _remove_special_characters(self, character): # Private method\n",
        "        if character.isalnum() or character == ' ' or character == '-':\n",
        "            return True\n",
        "        else:\n",
        "            return False\n"
      ]
    },
    {
      "cell_type": "code",
      "execution_count": 453,
      "id": "a4e46c71-63e9-474e-91a6-9d9a323636dc",
      "metadata": {
        "editable": true,
        "id": "a4e46c71-63e9-474e-91a6-9d9a323636dc",
        "outputId": "f3fdcc29-3661-46e6-e645-397a94c9874c",
        "tags": []
      },
      "outputs": [
        {
          "name": "stdout",
          "output_type": "stream",
          "text": [
            "The student named Joan has the following address: Avinguda Buenos Aires nº 31 7e-1a\n"
          ]
        }
      ],
      "source": [
        "student = Student(\"Joan\", 24)\n",
        "student.set_address(\"Avinguda Buenos Aires nº 31! 7e-1a\")\n",
        "print(f\"The student named {student.name} has the following address: {student.get_address()}\")"
      ]
    },
    {
      "cell_type": "markdown",
      "id": "f4552012-e0e9-40af-8801-69d83733d433",
      "metadata": {
        "editable": true,
        "id": "f4552012-e0e9-40af-8801-69d83733d433",
        "tags": []
      },
      "source": [
        "---"
      ]
    },
    {
      "cell_type": "markdown",
      "id": "42f8be9a-cc71-4a58-97ac-1a54219a2d72",
      "metadata": {
        "editable": true,
        "id": "42f8be9a-cc71-4a58-97ac-1a54219a2d72",
        "tags": []
      },
      "source": [
        "## Object Oriented programming\n",
        "### Hands on\n",
        "\n",
        "Let's design a course registration system, where the requirements will be:\n",
        "\n",
        "1. Create a **Course** class, where each course has a name, a description and a list of enrolled students. You'll need to implement the next methods:\n",
        "    - Add a student to the course.\n",
        "    - Remove a student from the course.\n",
        "    - Show all students in the course."
      ]
    },
    {
      "cell_type": "code",
      "execution_count": 454,
      "id": "e5430dcf-a01a-4ea1-aff8-5bad4531ab1e",
      "metadata": {
        "editable": true,
        "id": "e5430dcf-a01a-4ea1-aff8-5bad4531ab1e",
        "tags": []
      },
      "outputs": [],
      "source": [
        "# Defining the Course class with the specified methods\n",
        "class Course:\n",
        "    def __init__(self, name, description):\n",
        "        self.name = name  # The name of the course\n",
        "        self.description = description  # A brief description of the course\n",
        "        self.students = []  # A list to hold enrolled students\n",
        "\n",
        "    # Method to add a student to the course\n",
        "    def add_student(self, student):\n",
        "        if student not in self.students:  # Check if the student is already enrolled\n",
        "            self.students.append(student) # Add the student to the list\n",
        "            print(f\"Student {student} has been added to the course {self.name}.\")\n",
        "        else:\n",
        "            print(f\"Student {student} is already enrolled in the course {self.name}.\")\n",
        "\n",
        "    # Method to remove a student from the course\n",
        "    def remove_student(self, student):\n",
        "        if student in self.students: # Check if the student is enrolled\n",
        "            self.students.remove(student) # Remove the student from the list\n",
        "            print(f\"Student {student} has been removed from the course {self.name}.\")\n",
        "        else:\n",
        "            print(f\"Student {student} is not enrolled in the course {self.name}.\")\n",
        "\n",
        "    # Method to show all students in the course\n",
        "    def show_students(self):\n",
        "        if self.students: # Check if there are any enrolled students\n",
        "            print(f\"Students enrolled in {self.name}:\")\n",
        "            for student in self.students: # Iterate over the list of students\n",
        "                print(f\"- {student}\") # Print each student's name\n",
        "        else:\n",
        "            print(f\"No students are currently enrolled in {self.name}.\")"
      ]
    },
    {
      "cell_type": "code",
      "execution_count": 455,
      "id": "b11b0fb0",
      "metadata": {},
      "outputs": [
        {
          "name": "stdout",
          "output_type": "stream",
          "text": [
            "Student Noor Ahmad Raza has been added to the course Python for Data Science.\n",
            "Student David Smith has been added to the course Python for Data Science.\n",
            "Students enrolled in Python for Data Science:\n",
            "- Noor Ahmad Raza\n",
            "- David Smith\n",
            "Student David Smith has been removed from the course Python for Data Science.\n",
            "Students enrolled in Python for Data Science:\n",
            "- Noor Ahmad Raza\n"
          ]
        }
      ],
      "source": [
        "# Example usage:\n",
        "course1 = Course(\"Python for Data Science\", \"Introduction to Data Science concepts and techniques.\")\n",
        "\n",
        "# Adding students to the course\n",
        "course1.add_student(\"Noor Ahmad Raza\")\n",
        "course1.add_student(\"David Smith\")\n",
        "\n",
        "# Showing all students\n",
        "course1.show_students()\n",
        "\n",
        "# Removing a student\n",
        "course1.remove_student(\"David Smith\")\n",
        "\n",
        "# Showing students again after removal\n",
        "course1.show_students()"
      ]
    },
    {
      "cell_type": "markdown",
      "id": "16cc578c-9fe3-4478-81da-3071e3adb318",
      "metadata": {
        "editable": true,
        "id": "16cc578c-9fe3-4478-81da-3071e3adb318",
        "tags": []
      },
      "source": [
        "## Object Oriented programming\n",
        "### Hands on\n",
        "\n",
        "2. Create a **Student** class, where each student has a name, ID number, address and a list of enrolled courses with the following methods:\n",
        "    - Enroll in a course.\n",
        "    - Drop a course.\n",
        "    - Show all registered student courses."
      ]
    },
    {
      "cell_type": "code",
      "execution_count": 456,
      "id": "fe4cce31-1ddf-4847-bc8d-924dc3e0dfe1",
      "metadata": {
        "editable": true,
        "id": "fe4cce31-1ddf-4847-bc8d-924dc3e0dfe1",
        "tags": []
      },
      "outputs": [],
      "source": [
        "# Defining the Student class with the specified methods\n",
        "class Student:\n",
        "    def __init__(self, name, student_id, address):\n",
        "        self.name = name  # Student's name\n",
        "        self.student_id = student_id  # Student's ID number\n",
        "        self.address = address  # Student's address\n",
        "        self.courses = []  # A list to hold enrolled courses\n",
        "\n",
        "    # Method to enroll in a course\n",
        "    def enroll(self, course):\n",
        "        if course not in self.courses:  # Ensure the student is not already enrolled in the course\n",
        "            self.courses.append(course)\n",
        "            print(f\"{self.name} has been enrolled in {course}.\")\n",
        "        else:\n",
        "            print(f\"{self.name} is already enrolled in {course}.\")\n",
        "\n",
        "    # Method to drop a course\n",
        "    def drop_course(self, course):\n",
        "        if course in self.courses:\n",
        "            self.courses.remove(course)\n",
        "            print(f\"{self.name} has dropped {course}.\")\n",
        "        else:\n",
        "            print(f\"{self.name} is not enrolled in {course}.\")\n",
        "\n",
        "    # Method to show all registered student courses\n",
        "    def show_courses(self):\n",
        "        if self.courses:\n",
        "            print(f\"{self.name}'s registered courses:\")\n",
        "            for course in self.courses:\n",
        "                print(f\"- {course}\")\n",
        "        else:\n",
        "            print(f\"{self.name} is not enrolled in any courses.\")"
      ]
    },
    {
      "cell_type": "code",
      "execution_count": 457,
      "id": "2a43cc85",
      "metadata": {},
      "outputs": [
        {
          "name": "stdout",
          "output_type": "stream",
          "text": [
            "Noor Ahmad Raza has been enrolled in Python for Data Science.\n",
            "Noor Ahmad Raza has been enrolled in Business in Society.\n",
            "Noor Ahmad Raza's registered courses:\n",
            "- Python for Data Science\n",
            "- Business in Society\n",
            "Noor Ahmad Raza has dropped Business in Society.\n",
            "Noor Ahmad Raza's registered courses:\n",
            "- Python for Data Science\n"
          ]
        }
      ],
      "source": [
        "# Example usage:\n",
        "student1 = Student(\"Noor Ahmad Raza\", 101, \"Passatge De Sant Pere 15, Barcelona\")\n",
        "\n",
        "# Enrolling the student in courses\n",
        "student1.enroll(\"Python for Data Science\")\n",
        "student1.enroll(\"Business in Society\")\n",
        "\n",
        "# Showing all registered courses\n",
        "student1.show_courses()\n",
        "\n",
        "# Dropping a course\n",
        "student1.drop_course(\"Business in Society\")\n",
        "\n",
        "# Showing the updated list of courses\n",
        "student1.show_courses()"
      ]
    },
    {
      "cell_type": "markdown",
      "id": "5c54b2fe-691f-4520-b8d6-2515ba92b808",
      "metadata": {
        "editable": true,
        "id": "5c54b2fe-691f-4520-b8d6-2515ba92b808",
        "tags": []
      },
      "source": [
        "## Object Oriented programming\n",
        "### Hands on\n",
        "\n",
        "3. Create a central class that manages courses and students, **Registration** class, where you have a list of students and a list of courses, and methods:\n",
        "    - Enroll in a course.\n",
        "    - Drop a course.\n",
        "    - Show all the enrolled courses.\n",
        "    - Show all the students."
      ]
    },
    {
      "cell_type": "code",
      "execution_count": 458,
      "id": "863f30c7-3cf8-4ac9-8599-e7df8e0d483c",
      "metadata": {
        "editable": true,
        "id": "863f30c7-3cf8-4ac9-8599-e7df8e0d483c",
        "tags": []
      },
      "outputs": [],
      "source": [
        "# Defining the Registration class that manages courses and students\n",
        "class Registration:\n",
        "    def __init__(self):\n",
        "        self.students = []  # A list to hold all registered students\n",
        "        self.courses = []  # A list to hold all available courses\n",
        "\n",
        "    # Method to add a student to the registration\n",
        "    def add_student(self, student):\n",
        "        if student not in self.students:\n",
        "            self.students.append(student)\n",
        "            print(f\"Student {student.name} has been added to the registration.\")\n",
        "        else:\n",
        "            print(f\"Student {student.name} is already registered.\")\n",
        "\n",
        "    # Method to add a course to the registration\n",
        "    def add_course(self, course):\n",
        "        if course not in self.courses:\n",
        "            self.courses.append(course)\n",
        "            print(f\"Course {course.name} has been added to the registration.\")\n",
        "        else:\n",
        "            print(f\"Course {course.name} is already available.\")\n",
        "\n",
        "    # Method to enroll a student in a course\n",
        "    def enroll_student_in_course(self, student, course):\n",
        "        if student in self.students and course in self.courses:\n",
        "            student.enroll(course.name)\n",
        "            course.add_student(student.name)\n",
        "        else:\n",
        "            print(f\"Enrollment failed: Ensure the student is registered and the course is available.\")\n",
        "\n",
        "    # Method to drop a course for a student\n",
        "    def drop_student_from_course(self, student, course):\n",
        "        if student in self.students and course in self.courses:\n",
        "            student.drop_course(course.name)\n",
        "            course.remove_student(student.name)\n",
        "        else:\n",
        "            print(f\"Drop failed: Ensure the student is registered and the course is available.\")\n",
        "\n",
        "    # Method to show all enrolled courses\n",
        "    def show_all_courses(self):\n",
        "        if self.courses:\n",
        "            print(\"Available courses:\")\n",
        "            for course in self.courses:\n",
        "                print(f\"- {course.name}: {course.description}\")\n",
        "        else:\n",
        "            print(\"No courses available.\")\n",
        "\n",
        "    # Method to show all students\n",
        "    def show_all_students(self):\n",
        "        if self.students:\n",
        "            print(\"Registered students:\")\n",
        "            for student in self.students:\n",
        "                print(f\"- {student.name}, ID: {student.student_id}, Address: {student.address}\")\n",
        "        else:\n",
        "            print(\"No students registered.\")"
      ]
    },
    {
      "cell_type": "code",
      "execution_count": 459,
      "id": "0621b8b5",
      "metadata": {},
      "outputs": [
        {
          "name": "stdout",
          "output_type": "stream",
          "text": [
            "Student Noor Ahmad Raza has been added to the registration.\n",
            "Student David Smith has been added to the registration.\n",
            "Course Python for Data Science has been added to the registration.\n",
            "Course Business in Society has been added to the registration.\n",
            "Noor Ahmad Raza has been enrolled in Python for Data Science.\n",
            "Student Noor Ahmad Raza has been added to the course Python for Data Science.\n",
            "Noor Ahmad Raza has dropped Python for Data Science.\n",
            "Student Noor Ahmad Raza has been removed from the course Python for Data Science.\n",
            "Available courses:\n",
            "- Python for Data Science: Introduction to Data Science concepts and techniques.\n",
            "- Business in Society: Sustainability in Business.\n",
            "Registered students:\n",
            "- Noor Ahmad Raza, ID: 101, Address: Passatge De Sant Pere 15, Barcelona\n",
            "- David Smith, ID: 102, Address: 47A Ripon Street, India\n"
          ]
        }
      ],
      "source": [
        "# Example usage:\n",
        "# Create instances of Course and Student\n",
        "course1 = Course(\"Python for Data Science\", \"Introduction to Data Science concepts and techniques.\")\n",
        "course2 = Course(\"Business in Society\", \"Sustainability in Business.\")\n",
        "\n",
        "student1 = Student(\"Noor Ahmad Raza\", 101, \"Passatge De Sant Pere 15, Barcelona\")\n",
        "student2 = Student(\"David Smith\", 102, \"47A Ripon Street, India\")\n",
        "\n",
        "# Create a registration instance and add students and courses\n",
        "registration = Registration()\n",
        "registration.add_student(student1)\n",
        "registration.add_student(student2)\n",
        "\n",
        "registration.add_course(course1)\n",
        "registration.add_course(course2)\n",
        "\n",
        "# Enroll a student in a course\n",
        "registration.enroll_student_in_course(student1, course1)\n",
        "\n",
        "# Drop a course\n",
        "registration.drop_student_from_course(student1, course1)\n",
        "\n",
        "# Show all enrolled courses\n",
        "registration.show_all_courses()\n",
        "\n",
        "# Show all students\n",
        "registration.show_all_students()"
      ]
    },
    {
      "cell_type": "markdown",
      "id": "2958b01b-3472-4c95-ae1f-771edc638749",
      "metadata": {
        "editable": true,
        "id": "2958b01b-3472-4c95-ae1f-771edc638749",
        "tags": []
      },
      "source": [
        "## Object Oriented programming\n",
        "### Howework\n",
        "\n",
        "4. Let's add grades to each student's course and create method that yields the GPA given a student name or ID."
      ]
    },
    {
      "cell_type": "code",
      "execution_count": 460,
      "id": "881f689c",
      "metadata": {},
      "outputs": [],
      "source": [
        "# Adding grade functionality and GPA calculation to the Student class\n",
        "class Student:\n",
        "    def __init__(self, name, student_id, address):\n",
        "        self.name = name  # Student's name\n",
        "        self.student_id = student_id  # Student's ID number\n",
        "        self.address = address  # Student's address\n",
        "        self.courses = {}  # A dictionary to hold enrolled courses and their grades\n",
        "\n",
        "    # Method to enroll in a course\n",
        "    def enroll(self, course):\n",
        "        if course not in self.courses:  # Ensure the student is not already enrolled in the course\n",
        "            self.courses[course] = None  # Initialize with no grade\n",
        "            print(f\"{self.name} has been enrolled in {course}.\")\n",
        "        else:\n",
        "            print(f\"{self.name} is already enrolled in {course}.\")\n",
        "\n",
        "    # Method to drop a course\n",
        "    def drop_course(self, course):\n",
        "        if course in self.courses:\n",
        "            del self.courses[course]  # Remove the course from the dictionary\n",
        "            print(f\"{self.name} has dropped {course}.\")\n",
        "        else:\n",
        "            print(f\"{self.name} is not enrolled in {course}.\")\n",
        "\n",
        "    # Method to assign a grade for a course\n",
        "    def assign_grade(self, course, grade):\n",
        "        if course in self.courses:\n",
        "            self.courses[course] = grade  # Set the grade for the course\n",
        "            print(f\"Grade {grade} has been assigned to {self.name} for {course}.\")\n",
        "        else:\n",
        "            print(f\"{self.name} is not enrolled in {course}.\")\n",
        "\n",
        "    # Method to calculate GPA\n",
        "    def calculate_gpa(self):\n",
        "        total_grades = 0\n",
        "        count = 0\n",
        "        for grade in self.courses.values():\n",
        "            if grade is not None:  # Only count courses with assigned grades\n",
        "                total_grades += grade\n",
        "                count += 1\n",
        "        if count == 0:\n",
        "            return 0.0  # Avoid division by zero if no grades are assigned\n",
        "        gpa = total_grades / count  # Calculate the GPA\n",
        "        return round(gpa, 2)  # Round to two decimal places\n",
        "\n",
        "    # Method to show all registered student courses and grades\n",
        "    def show_courses(self):\n",
        "        if self.courses:\n",
        "            print(f\"{self.name}'s registered courses and grades:\")\n",
        "            for course, grade in self.courses.items():\n",
        "                print(f\"- {course}: {'Not graded' if grade is None else grade}\")\n",
        "        else:\n",
        "            print(f\"{self.name} is not enrolled in any courses.\")"
      ]
    },
    {
      "cell_type": "code",
      "execution_count": 461,
      "id": "d121b085",
      "metadata": {},
      "outputs": [
        {
          "name": "stdout",
          "output_type": "stream",
          "text": [
            "Noor Ahmad Raza has been enrolled in Python for Data Science.\n",
            "Noor Ahmad Raza has been enrolled in Business in Society.\n",
            "Grade 3.5 has been assigned to Noor Ahmad Raza for Python for Data Science.\n",
            "Grade 4.0 has been assigned to Noor Ahmad Raza for Business in Society.\n",
            "Noor Ahmad Raza's registered courses and grades:\n",
            "- Python for Data Science: 3.5\n",
            "- Business in Society: 4.0\n",
            "Noor Ahmad Raza's GPA: 3.75\n"
          ]
        }
      ],
      "source": [
        "# Example usage:\n",
        "student1 = Student(\"Noor Ahmad Raza\", 101, \"Passatge De Sant Pere 15, Barcelona\")\n",
        "\n",
        "# Enrolling the student in courses\n",
        "student1.enroll(\"Python for Data Science\")\n",
        "student1.enroll(\"Business in Society\")\n",
        "\n",
        "# Assigning grades\n",
        "student1.assign_grade(\"Python for Data Science\", 3.5)  # Assigning a grade of 3.5\n",
        "student1.assign_grade(\"Business in Society\", 4.0)  # Assigning a grade of 4.0\n",
        "\n",
        "# Showing all registered courses and grades\n",
        "student1.show_courses()\n",
        "\n",
        "# Calculating GPA\n",
        "gpa = student1.calculate_gpa()\n",
        "print(f\"{student1.name}'s GPA: {gpa}\")"
      ]
    },
    {
      "cell_type": "markdown",
      "id": "76c565a9-dc30-464c-980d-d522cd5246f4",
      "metadata": {
        "editable": true,
        "id": "76c565a9-dc30-464c-980d-d522cd5246f4",
        "tags": []
      },
      "source": [
        "## That's all!"
      ]
    }
  ],
  "metadata": {
    "colab": {
      "provenance": []
    },
    "kernelspec": {
      "display_name": "Python 3 (ipykernel)",
      "language": "python",
      "name": "python3"
    },
    "language_info": {
      "codemirror_mode": {
        "name": "ipython",
        "version": 3
      },
      "file_extension": ".py",
      "mimetype": "text/x-python",
      "name": "python",
      "nbconvert_exporter": "python",
      "pygments_lexer": "ipython3",
      "version": "3.10.15"
    }
  },
  "nbformat": 4,
  "nbformat_minor": 5
}
