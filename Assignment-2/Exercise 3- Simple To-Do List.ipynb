{
 "cells": [
  {
   "cell_type": "markdown",
   "metadata": {},
   "source": [
    "# Python for Data Science - Assignment 2"
   ]
  },
  {
   "cell_type": "markdown",
   "metadata": {},
   "source": [
    "# README.md"
   ]
  },
  {
   "cell_type": "markdown",
   "metadata": {},
   "source": [
    "Assignment 2 branch contains a set of basic Python exercises aimed at practicing fundamental programming concepts such as conditionals, loops, list comprehension, and functions. The exercises are designed to be easy to follow, with explanations and examples provided for each."
   ]
  },
  {
   "cell_type": "markdown",
   "metadata": {},
   "source": [
    "# Exercise 3 - Simple To-Do List"
   ]
  },
  {
   "cell_type": "markdown",
   "metadata": {},
   "source": [
    "This exercise simulates a basic to-do list application.\n",
    "The program starts with an empty list, and two functions are defined:\n",
    "    1. add_task(task): Adds a task to the to-do list.\n",
    "    2. show_tasks(): Displays all tasks currently in the list.\n",
    "Users can call add_task() to add new tasks and show_tasks() to print the entire list of tasks."
   ]
  },
  {
   "cell_type": "code",
   "execution_count": 3,
   "metadata": {},
   "outputs": [
    {
     "name": "stdout",
     "output_type": "stream",
     "text": [
      "Buy groceries\n",
      "Cook dinner\n"
     ]
    }
   ],
   "source": [
    "# This code creates a list to store tasks, allowing you to add and show them.\n",
    "# We start with an empty list and define two functions:\n",
    "# - One to add tasks to the list.\n",
    "# - Another to display all tasks in the list.\n",
    "\n",
    "# Start with an empty list for tasks\n",
    "todo_list = []\n",
    "\n",
    "def add_task(task):\n",
    "    todo_list.append(task)  # Add task to the list\n",
    "\n",
    "def show_tasks():\n",
    "    for task in todo_list:  # Print each task\n",
    "        print(task)\n",
    "\n",
    "# Add some tasks\n",
    "add_task(\"Buy groceries\")\n",
    "add_task(\"Cook dinner\")\n",
    "\n",
    "# Show the tasks\n",
    "show_tasks()"
   ]
  }
 ],
 "metadata": {
  "kernelspec": {
   "display_name": "Python 3",
   "language": "python",
   "name": "python3"
  },
  "language_info": {
   "codemirror_mode": {
    "name": "ipython",
    "version": 3
   },
   "file_extension": ".py",
   "mimetype": "text/x-python",
   "name": "python",
   "nbconvert_exporter": "python",
   "pygments_lexer": "ipython3",
   "version": "3.10.15"
  }
 },
 "nbformat": 4,
 "nbformat_minor": 2
}
