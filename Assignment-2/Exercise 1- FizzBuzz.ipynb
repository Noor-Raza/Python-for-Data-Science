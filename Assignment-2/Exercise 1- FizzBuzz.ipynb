{
 "cells": [
  {
   "cell_type": "markdown",
   "metadata": {},
   "source": [
    "# Python for Data Science - Assignment 2"
   ]
  },
  {
   "cell_type": "markdown",
   "metadata": {},
   "source": [
    "# README.md"
   ]
  },
  {
   "cell_type": "markdown",
   "metadata": {},
   "source": [
    "Assignment 2 branch contains a set of basic Python exercises aimed at practicing fundamental programming concepts such as conditionals, loops, list comprehension, and functions. The exercises are designed to be easy to follow, with explanations and examples provided for each."
   ]
  },
  {
   "cell_type": "markdown",
   "metadata": {},
   "source": [
    "# Exercise 1 - FizzBuzz Function"
   ]
  },
  {
   "cell_type": "markdown",
   "metadata": {},
   "source": [
    "FizzBuzz is a classic programming problem. The function takes a number n and prints all numbers from 1 to n.\n",
    "However, for multiples of 3, it prints \"Fizz\", for multiples of 5, it prints \"Buzz\", and for multiples of both 3 and 5, it prints \"FizzBuzz\".\n",
    "For all other numbers, it simply prints the number itself."
   ]
  },
  {
   "cell_type": "code",
   "execution_count": 2,
   "metadata": {},
   "outputs": [
    {
     "name": "stdout",
     "output_type": "stream",
     "text": [
      "1\n",
      "2\n",
      "Fizz\n",
      "4\n",
      "Buzz\n",
      "Fizz\n",
      "7\n",
      "8\n",
      "Fizz\n",
      "Buzz\n",
      "11\n",
      "Fizz\n",
      "13\n",
      "14\n",
      "FizzBuzz\n",
      "16\n",
      "17\n",
      "Fizz\n",
      "19\n",
      "Buzz\n"
     ]
    }
   ],
   "source": [
    "# This function prints numbers from 1 to n. \n",
    "# If a number is a multiple of 3, it prints \"Fizz\". \n",
    "# If it's a multiple of 5, it prints \"Buzz\". \n",
    "# If it's a multiple of both, it prints \"FizzBuzz\". \n",
    "# Otherwise, it prints the number itself.\n",
    "\n",
    "def fizzbuzz(n):\n",
    "    for i in range(1, n + 1):  # Loop from 1 to n\n",
    "        if i % 3 == 0 and i % 5 == 0:\n",
    "            print(\"FizzBuzz\")  # Print \"FizzBuzz\" for multiples of both\n",
    "        elif i % 3 == 0:\n",
    "            print(\"Fizz\")      # Print \"Fizz\" for multiples of 3\n",
    "        elif i % 5 == 0:\n",
    "            print(\"Buzz\")      # Print \"Buzz\" for multiples of 5\n",
    "        else:\n",
    "            print(i)           # Print the number itself\n",
    "\n",
    "# Call the function for numbers 1 to 20\n",
    "fizzbuzz(20)"
   ]
  }
 ],
 "metadata": {
  "kernelspec": {
   "display_name": "Python 3",
   "language": "python",
   "name": "python3"
  },
  "language_info": {
   "codemirror_mode": {
    "name": "ipython",
    "version": 3
   },
   "file_extension": ".py",
   "mimetype": "text/x-python",
   "name": "python",
   "nbconvert_exporter": "python",
   "pygments_lexer": "ipython3",
   "version": "3.10.15"
  }
 },
 "nbformat": 4,
 "nbformat_minor": 2
}
