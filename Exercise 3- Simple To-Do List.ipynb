{
 "cells": [
  {
   "cell_type": "code",
   "execution_count": 3,
   "metadata": {},
   "outputs": [
    {
     "name": "stdout",
     "output_type": "stream",
     "text": [
      "Buy groceries\n",
      "Cook dinner\n"
     ]
    }
   ],
   "source": [
    "# Exercise 3: Simple To-Do List\n",
    "# This code creates a list to store tasks, allowing you to add and show them.\n",
    "# We start with an empty list and define two functions:\n",
    "# - One to add tasks to the list.\n",
    "# - Another to display all tasks in the list.\n",
    "\n",
    "# Start with an empty list for tasks\n",
    "todo_list = []\n",
    "\n",
    "def add_task(task):\n",
    "    todo_list.append(task)  # Add task to the list\n",
    "\n",
    "def show_tasks():\n",
    "    for task in todo_list:  # Print each task\n",
    "        print(task)\n",
    "\n",
    "# Add some tasks\n",
    "add_task(\"Buy groceries\")\n",
    "add_task(\"Cook dinner\")\n",
    "\n",
    "# Show the tasks\n",
    "show_tasks()"
   ]
  }
 ],
 "metadata": {
  "kernelspec": {
   "display_name": "Python 3",
   "language": "python",
   "name": "python3"
  },
  "language_info": {
   "codemirror_mode": {
    "name": "ipython",
    "version": 3
   },
   "file_extension": ".py",
   "mimetype": "text/x-python",
   "name": "python",
   "nbconvert_exporter": "python",
   "pygments_lexer": "ipython3",
   "version": "3.10.15"
  }
 },
 "nbformat": 4,
 "nbformat_minor": 2
}
