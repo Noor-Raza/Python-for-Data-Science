{
 "cells": [
  {
   "cell_type": "markdown",
   "metadata": {},
   "source": [
    "# **Python for Data Science**"
   ]
  },
  {
   "cell_type": "markdown",
   "metadata": {},
   "source": [
    "---"
   ]
  },
  {
   "cell_type": "markdown",
   "metadata": {},
   "source": [
    "## Assignment 6"
   ]
  },
  {
   "cell_type": "markdown",
   "metadata": {},
   "source": [
    "### Pandas I"
   ]
  },
  {
   "cell_type": "markdown",
   "metadata": {},
   "source": [
    "---"
   ]
  },
  {
   "cell_type": "markdown",
   "metadata": {},
   "source": [
    "# **README.md**"
   ]
  },
  {
   "cell_type": "markdown",
   "metadata": {},
   "source": [
    "## Overview\n",
    "\n",
    "This notebook includes exercises to analyze two datasets: **Netflix** and **Titanic**. Below are the exercises and their descriptions.\n",
    "\n",
    "## Netflix Dataset Exercises\n",
    "\n",
    "1. **Is there any missing rating?**\n",
    "   - **Description:** Counting the number of missing values in each column to understand data completeness.\n",
    "\n",
    "2. **How many films in 2021 correspond to your country?**\n",
    "   - **Description:** Replacing missing values in the 'country' column with \"Unknown\" to handle incomplete data.\n",
    "\n",
    "3. **What's the number of movies in 2020 with full information?**\n",
    "   - **Description:** Filtering the dataset to keep only entries of type \"TV Show.\"\n",
    "\n",
    "4. **Give me the year with more titles.**\n",
    "   - **Description:** Calculating the number of entries for each unique value in the 'rating' column to understand content distribution.\n",
    "\n",
    "5. **And what has been the average in terms of releases from 2010.**\n",
    "   - **Description:** Adding a new column, **content_age**, to calculate the age of the content by subtracting its release year from the current year.\n",
    "\n",
    "## Titanic Dataset Exercises\n",
    "\n",
    "1. **Calculate Gender-Based Survival Percentage**\n",
    "   - **Description:** Calculating the survival percentage for each gender by dividing the number of survivors by the total passengers for each gender.\n",
    "\n",
    "2. **Calculate Survival Percentage Grouped by Gender and Class**\n",
    "   - **Description:** Calculating survival percentages for each combination of gender and passenger class."
   ]
  },
  {
   "cell_type": "markdown",
   "metadata": {},
   "source": [
    "---"
   ]
  },
  {
   "cell_type": "markdown",
   "metadata": {},
   "source": [
    "## **Loading the Datasets**\n",
    "\n",
    "Let's load *Netflix* datasets"
   ]
  },
  {
   "cell_type": "code",
   "execution_count": 68,
   "metadata": {},
   "outputs": [],
   "source": [
    "import pandas as pd\n",
    "\n",
    "path = 'netflix_titles.csv'\n",
    "\n",
    "df = pd.read_csv(path)"
   ]
  },
  {
   "cell_type": "code",
   "execution_count": 4,
   "metadata": {},
   "outputs": [
    {
     "data": {
      "text/plain": [
       "Index(['show_id', 'type', 'title', 'director', 'cast', 'country', 'date_added',\n",
       "       'release_year', 'rating', 'duration', 'listed_in', 'description'],\n",
       "      dtype='object')"
      ]
     },
     "execution_count": 4,
     "metadata": {},
     "output_type": "execute_result"
    }
   ],
   "source": [
    "df.columns"
   ]
  },
  {
   "cell_type": "markdown",
   "metadata": {},
   "source": [
    "Let's now load the *Titanic* dataset."
   ]
  },
  {
   "cell_type": "code",
   "execution_count": 54,
   "metadata": {},
   "outputs": [],
   "source": [
    "path = 'train_and_test2.csv'\n",
    "\n",
    "titanic = pd.read_csv(path)"
   ]
  },
  {
   "cell_type": "code",
   "execution_count": 56,
   "metadata": {},
   "outputs": [
    {
     "data": {
      "text/plain": [
       "Index(['Passengerid', 'Age', 'Fare', 'Sex', 'sibsp', 'zero', 'zero.1',\n",
       "       'zero.2', 'zero.3', 'zero.4', 'zero.5', 'zero.6', 'Parch', 'zero.7',\n",
       "       'zero.8', 'zero.9', 'zero.10', 'zero.11', 'zero.12', 'zero.13',\n",
       "       'zero.14', 'Pclass', 'zero.15', 'zero.16', 'Embarked', 'zero.17',\n",
       "       'zero.18', '2urvived'],\n",
       "      dtype='object')"
      ]
     },
     "execution_count": 56,
     "metadata": {},
     "output_type": "execute_result"
    }
   ],
   "source": [
    "titanic.columns"
   ]
  },
  {
   "cell_type": "markdown",
   "metadata": {},
   "source": [
    "---"
   ]
  },
  {
   "cell_type": "markdown",
   "metadata": {},
   "source": [
    "# **Exercises**"
   ]
  },
  {
   "cell_type": "markdown",
   "metadata": {},
   "source": [
    "## Pandas I\n",
    "\n",
    "Home exercises for Netflix:\n",
    "\n",
    "1. Is there any missing rating?\n",
    "2. How many films in 2021 correspond to your country?\n",
    "3. What's the number of movies in 2020 with full information?\n",
    "4. Give me the year with more titles.\n",
    "5. And what has been the average in terms of releases from 2010. \n",
    "\n",
    "And for Titanic:\n",
    "\n",
    "1. Calculate Gender-Based Survival Percentage\n",
    "\n",
    "2. Calculate Survival Percentage Grouped by Gender and Class"
   ]
  },
  {
   "cell_type": "markdown",
   "metadata": {},
   "source": [
    "---"
   ]
  },
  {
   "cell_type": "markdown",
   "metadata": {},
   "source": [
    "# **Netflix**"
   ]
  },
  {
   "cell_type": "markdown",
   "metadata": {},
   "source": [
    "### Exercise 1: Is there any missing rating?"
   ]
  },
  {
   "cell_type": "markdown",
   "metadata": {},
   "source": [
    "**Description:** In this exercise, we check if there are any missing values in the 'rating' column.\n"
   ]
  },
  {
   "cell_type": "code",
   "execution_count": 28,
   "metadata": {},
   "outputs": [
    {
     "name": "stdout",
     "output_type": "stream",
     "text": [
      "Rows with missing ratings:\n",
      "     rating\n",
      "5989    NaN\n",
      "6827    NaN\n",
      "7312    NaN\n",
      "7537    NaN\n"
     ]
    }
   ],
   "source": [
    "# Filtering rows where 'rating' is missing\n",
    "\n",
    "missing_ratings_df = df[df['rating'].isnull()]  # Selecting rows where the 'rating' column is NaN.\n",
    "\n",
    "# Displaying only rows with missing 'rating' to validate\n",
    "\n",
    "if not missing_ratings_df.empty:\n",
    "    print(\"Rows with missing ratings:\")\n",
    "    print(missing_ratings_df[['rating']])  # Displaying ratings columns for clarity.\n",
    "else:\n",
    "    print(\"No rows with missing ratings found.\")"
   ]
  },
  {
   "cell_type": "code",
   "execution_count": 29,
   "metadata": {},
   "outputs": [
    {
     "name": "stdout",
     "output_type": "stream",
     "text": [
      "There are 4 missing ratings.\n"
     ]
    }
   ],
   "source": [
    "# Counting the number of missing values in the 'rating' column\n",
    "\n",
    "print(f\"There are {missing_ratings} missing ratings.\")"
   ]
  },
  {
   "cell_type": "markdown",
   "metadata": {},
   "source": [
    "---"
   ]
  },
  {
   "cell_type": "markdown",
   "metadata": {},
   "source": [
    "### Exercise 2: How many films in 2021 correspond to your country?"
   ]
  },
  {
   "cell_type": "markdown",
   "metadata": {},
   "source": [
    "**Description:** Here, we count how many films from your country (e.g., \"India\") were released in 2021."
   ]
  },
  {
   "cell_type": "code",
   "execution_count": 39,
   "metadata": {},
   "outputs": [
    {
     "name": "stdout",
     "output_type": "stream",
     "text": [
      "Films from India in 2021:\n",
      "                              title  release_year country   type\n",
      "190                      Thimmarusu          2021   India  Movie\n",
      "551                 Haseen Dillruba          2021   India  Movie\n",
      "735                         Sarbath          2021   India  Movie\n",
      "850                        99 Songs          2021   India  Movie\n",
      "871              Sardar Ka Grandson          2021   India  Movie\n",
      "873                           Ahaan          2021   India  Movie\n",
      "877                    Cinema Bandi          2021   India  Movie\n",
      "903                         Nayattu          2021   India  Movie\n",
      "909                       Milestone          2021   India  Movie\n",
      "959                    The Disciple          2021   India  Movie\n",
      "998            Searching For Sheela          2021   India  Movie\n",
      "1023                Ajeeb Daastaans          2021   India  Movie\n",
      "1037             Tuesdays & Fridays          2021   India  Movie\n",
      "1087                          Roohi          2021   India  Movie\n",
      "1098                        Mandela          2021   India  Movie\n",
      "1108                           Irul          2021   India  Movie\n",
      "1165                       Pagglait          2021   India  Movie\n",
      "1202                    C/O Kaadhal          2021   India  Movie\n",
      "1230                          Aelay          2021   India  Movie\n",
      "1265          The Girl on the Train          2021   India  Movie\n",
      "1281                            Red          2021   India  Movie\n",
      "1410  Tribhanga - Tedhi Medhi Crazy          2021   India  Movie\n"
     ]
    }
   ],
   "source": [
    "country_name = \"India\"  # Specifying my country here.\n",
    "\n",
    "# Filtering for films in 2021 that correspond to my country\n",
    "films_in_2021_df = df[(df['release_year'] == 2021) & (df['country'] == country_name) & (df['type'] == 'Movie')]\n",
    "\n",
    "# Displaying the filtered rows for validation\n",
    "if not films_in_2021_df.empty:\n",
    "    print(f\"Films from {country_name} in 2021:\")\n",
    "    print(films_in_2021_df[['title', 'release_year', 'country', 'type']])  # Showing relevant columns for clarity.\n",
    "else:\n",
    "    print(f\"No films from {country_name} in 2021.\")"
   ]
  },
  {
   "cell_type": "code",
   "execution_count": 40,
   "metadata": {},
   "outputs": [
    {
     "name": "stdout",
     "output_type": "stream",
     "text": [
      "There are 22 films from India in 2021.\n"
     ]
    }
   ],
   "source": [
    "# Counting the number of films matching the criteria\n",
    "\n",
    "films_in_2021_count = films_in_2021_df.shape[0]\n",
    "\n",
    "print(f\"There are {films_in_2021_count} films from {country_name} in 2021.\")"
   ]
  },
  {
   "cell_type": "markdown",
   "metadata": {},
   "source": [
    "---"
   ]
  },
  {
   "cell_type": "markdown",
   "metadata": {},
   "source": [
    "### Exercise 3: What's the number of movies in 2020 with full information?"
   ]
  },
  {
   "cell_type": "markdown",
   "metadata": {},
   "source": [
    "**Description:** We count how many movies in 2020 have no missing data in any column."
   ]
  },
  {
   "cell_type": "code",
   "execution_count": 43,
   "metadata": {},
   "outputs": [
    {
     "name": "stdout",
     "output_type": "stream",
     "text": [
      "Movies in 2020 with full information:\n",
      "                                   title  release_year        country rating  \\\n",
      "78                        Tughlaq Durbar          2020        Unknown  TV-14   \n",
      "84                  Omo Ghetto: the Saga          2020        Nigeria  TV-MA   \n",
      "103                       Shadow Parties          2020        Unknown  TV-MA   \n",
      "119                       Here and There          2020        Unknown  TV-MA   \n",
      "126                              Shikara          2020          India  TV-14   \n",
      "...                                  ...           ...            ...    ...   \n",
      "3044               Live Twice, Love Once          2020          Spain  TV-MA   \n",
      "3046       All the Freckles in the World          2020         Mexico  TV-14   \n",
      "3060                       Ghost Stories          2020          India  TV-MA   \n",
      "7594  Norm of the North: Family Vacation          2020  United States  TV-Y7   \n",
      "8099                         Straight Up          2020  United States  TV-MA   \n",
      "\n",
      "       type  \n",
      "78    Movie  \n",
      "84    Movie  \n",
      "103   Movie  \n",
      "119   Movie  \n",
      "126   Movie  \n",
      "...     ...  \n",
      "3044  Movie  \n",
      "3046  Movie  \n",
      "3060  Movie  \n",
      "7594  Movie  \n",
      "8099  Movie  \n",
      "\n",
      "[458 rows x 5 columns]\n"
     ]
    }
   ],
   "source": [
    "# Filtering for movies in 2020 with no missing data\n",
    "\n",
    "movies_2020_full_df = df[(df['release_year'] == 2020) & (df['type'] == 'Movie')].dropna()\n",
    "\n",
    "# Displaying the filtered rows for validation\n",
    "\n",
    "if not movies_2020_full_df.empty:\n",
    "    print(\"Movies in 2020 with full information:\")\n",
    "    print(movies_2020_full_df[['title', 'release_year', 'country', 'rating', 'type']])  # Displaying relevant columns.\n",
    "else:\n",
    "    print(\"No movies in 2020 with full information.\")"
   ]
  },
  {
   "cell_type": "code",
   "execution_count": 47,
   "metadata": {},
   "outputs": [
    {
     "name": "stdout",
     "output_type": "stream",
     "text": [
      "There are 458 movies in 2020 with full information.\n"
     ]
    }
   ],
   "source": [
    "# Counting the number of movies with full information\n",
    "\n",
    "movies_2020_full_count = movies_2020_full_df.shape[0]\n",
    "\n",
    "print(f\"There are {movies_2020_full_count} movies in 2020 with full information.\")"
   ]
  },
  {
   "cell_type": "markdown",
   "metadata": {},
   "source": [
    "---"
   ]
  },
  {
   "cell_type": "markdown",
   "metadata": {},
   "source": [
    "### Exercise 4: Give me the year with more titles."
   ]
  },
  {
   "cell_type": "markdown",
   "metadata": {},
   "source": [
    "**Description:** We find the year that has the highest number of titles released."
   ]
  },
  {
   "cell_type": "code",
   "execution_count": 46,
   "metadata": {},
   "outputs": [
    {
     "name": "stdout",
     "output_type": "stream",
     "text": [
      "Titles per year:\n",
      "release_year\n",
      "2018    1147\n",
      "2017    1032\n",
      "2019    1030\n",
      "2020     953\n",
      "2016     902\n",
      "        ... \n",
      "1959       1\n",
      "1925       1\n",
      "1961       1\n",
      "1947       1\n",
      "1966       1\n",
      "Name: count, Length: 74, dtype: int64\n"
     ]
    }
   ],
   "source": [
    "# Getting the count of titles per year\n",
    "\n",
    "titles_per_year = df['release_year'].value_counts()\n",
    "\n",
    "# Displaying the title counts per year for validation\n",
    "\n",
    "print(\"Titles per year:\")\n",
    "\n",
    "print(titles_per_year)"
   ]
  },
  {
   "cell_type": "code",
   "execution_count": 45,
   "metadata": {},
   "outputs": [
    {
     "name": "stdout",
     "output_type": "stream",
     "text": [
      "The year with the most titles is 2018 with 1147 titles.\n"
     ]
    }
   ],
   "source": [
    "# Finding the year with the most titles\n",
    "\n",
    "year_with_most_titles = titles_per_year.idxmax()  # Getting the year with the highest count.\n",
    "\n",
    "titles_in_that_year = titles_per_year.max()  # Getting the count for that year.\n",
    "\n",
    "# Printing the result\n",
    "print(f\"The year with the most titles is {year_with_most_titles} with {titles_in_that_year} titles.\")"
   ]
  },
  {
   "cell_type": "markdown",
   "metadata": {},
   "source": [
    "---"
   ]
  },
  {
   "cell_type": "markdown",
   "metadata": {},
   "source": [
    "### Exercise 5: And what has been the average in terms of releases from 2010."
   ]
  },
  {
   "cell_type": "markdown",
   "metadata": {},
   "source": [
    "**Description:** We calculate the average number of titles released per year from 2010 to the most recent year."
   ]
  },
  {
   "cell_type": "code",
   "execution_count": 49,
   "metadata": {},
   "outputs": [
    {
     "name": "stdout",
     "output_type": "stream",
     "text": [
      "Titles per year from 2010 onwards:\n",
      "release_year\n",
      "2018    1147\n",
      "2017    1032\n",
      "2019    1030\n",
      "2020     953\n",
      "2016     902\n",
      "2021     592\n",
      "2015     560\n",
      "2014     352\n",
      "2013     288\n",
      "2012     237\n",
      "2010     194\n",
      "2011     185\n",
      "Name: count, dtype: int64\n"
     ]
    }
   ],
   "source": [
    "# Filtering for titles from 2010 onwards\n",
    "\n",
    "titles_from_2010_df = df[df['release_year'] >= 2010]\n",
    "\n",
    "# Displaying the title counts per year for validation\n",
    "\n",
    "print(\"Titles per year from 2010 onwards:\")\n",
    "\n",
    "print(titles_from_2010_df['release_year'].value_counts())"
   ]
  },
  {
   "cell_type": "code",
   "execution_count": 50,
   "metadata": {},
   "outputs": [
    {
     "name": "stdout",
     "output_type": "stream",
     "text": [
      "The average number of releases per year from 2010 onwards is 622.67.\n"
     ]
    }
   ],
   "source": [
    "# Calculating the average number of releases per year\n",
    "\n",
    "average_releases_2010_onwards = titles_from_2010_df['release_year'].value_counts().mean()\n",
    "\n",
    "print(f\"The average number of releases per year from 2010 onwards is {average_releases_2010_onwards:.2f}.\")"
   ]
  },
  {
   "cell_type": "markdown",
   "metadata": {},
   "source": [
    "---"
   ]
  },
  {
   "cell_type": "markdown",
   "metadata": {},
   "source": [
    "## **Titanic**"
   ]
  },
  {
   "cell_type": "markdown",
   "metadata": {},
   "source": [
    "### Exercise 1: Calculate Gender-Based Survival Percentage."
   ]
  },
  {
   "cell_type": "markdown",
   "metadata": {},
   "source": [
    "**Description:** In this exercise, we calculate the survival percentage for each gender by dividing the number of survivors by the total passengers in each gender group."
   ]
  },
  {
   "cell_type": "code",
   "execution_count": 69,
   "metadata": {},
   "outputs": [
    {
     "name": "stdout",
     "output_type": "stream",
     "text": [
      "Gender-Based Survival Percentage:\n",
      "Sex\n",
      "0    12.930012\n",
      "1    50.000000\n",
      "Name: 2urvived, dtype: float64\n"
     ]
    }
   ],
   "source": [
    "# Grouping data by 'Sex' and calculating mean survival rate\n",
    "gender_survival_percentage = titanic.groupby('Sex')['2urvived'].mean() * 100  # Multiplying by 100 for percentage.\n",
    "\n",
    "# Displaying the survival percentages for validation\n",
    "print(\"Gender-Based Survival Percentage:\")\n",
    "print(gender_survival_percentage)"
   ]
  },
  {
   "cell_type": "code",
   "execution_count": 70,
   "metadata": {},
   "outputs": [
    {
     "name": "stdout",
     "output_type": "stream",
     "text": [
      "Male Survival Percentage: 12.93%\n",
      "Female Survival Percentage: 50.00%\n"
     ]
    }
   ],
   "source": [
    "# Printing the results\n",
    "print(f\"Male Survival Percentage: {gender_survival_percentage[0]:.2f}%\")    # Assuming 0 for Male.\n",
    "print(f\"Female Survival Percentage: {gender_survival_percentage[1]:.2f}%\")  # Assuming 0 for Female."
   ]
  },
  {
   "cell_type": "markdown",
   "metadata": {},
   "source": [
    "---"
   ]
  },
  {
   "cell_type": "markdown",
   "metadata": {},
   "source": [
    "### Exercise 2: Calculate Survival Percentage Grouped by Gender and Class."
   ]
  },
  {
   "cell_type": "markdown",
   "metadata": {},
   "source": [
    "**Description:** Here, we calculate the survival percentage for each combination of gender and class."
   ]
  },
  {
   "cell_type": "code",
   "execution_count": 71,
   "metadata": {},
   "outputs": [
    {
     "name": "stdout",
     "output_type": "stream",
     "text": [
      "Survival Percentage Grouped by Gender and Class:\n",
      "Sex  Pclass\n",
      "0    1         25.139665\n",
      "     2          9.941520\n",
      "     3          9.533469\n",
      "1    1         63.194444\n",
      "     2         66.037736\n",
      "     3         33.333333\n",
      "Name: 2urvived, dtype: float64\n"
     ]
    }
   ],
   "source": [
    "# Grouping data by 'Sex' and 'Pclass' and calculating mean survival rate\n",
    "gender_class_survival_percentage = titanic.groupby(['Sex', 'Pclass'])['2urvived'].mean() * 100  # Multiplying by 100 for percentage.\n",
    "\n",
    "# Displaying the grouped survival percentages for validation\n",
    "print(\"Survival Percentage Grouped by Gender and Class:\")\n",
    "print(gender_class_survival_percentage)"
   ]
  },
  {
   "cell_type": "code",
   "execution_count": 72,
   "metadata": {},
   "outputs": [
    {
     "name": "stdout",
     "output_type": "stream",
     "text": [
      "Male in Class 1: 25.14% survival rate\n",
      "Male in Class 2: 9.94% survival rate\n",
      "Male in Class 3: 9.53% survival rate\n",
      "Female in Class 1: 63.19% survival rate\n",
      "Female in Class 2: 66.04% survival rate\n",
      "Female in Class 3: 33.33% survival rate\n"
     ]
    }
   ],
   "source": [
    "# Printing the results\n",
    "for (sex, pclass), percentage in gender_class_survival_percentage.items():\n",
    "    gender = \"Male\" if sex == 0 else \"Female\"   # Assuming 0 for Male and 1 for Female.\n",
    "    print(f\"{gender} in Class {pclass}: {percentage:.2f}% survival rate\")"
   ]
  },
  {
   "cell_type": "markdown",
   "metadata": {},
   "source": [
    "---"
   ]
  }
 ],
 "metadata": {
  "kernelspec": {
   "display_name": "Python 3",
   "language": "python",
   "name": "python3"
  },
  "language_info": {
   "codemirror_mode": {
    "name": "ipython",
    "version": 3
   },
   "file_extension": ".py",
   "mimetype": "text/x-python",
   "name": "python",
   "nbconvert_exporter": "python",
   "pygments_lexer": "ipython3",
   "version": "3.12.6"
  }
 },
 "nbformat": 4,
 "nbformat_minor": 2
}
